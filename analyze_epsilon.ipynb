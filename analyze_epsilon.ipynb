{
 "cells": [
  {
   "cell_type": "code",
   "execution_count": 577,
   "metadata": {},
   "outputs": [],
   "source": [
    "import random\n",
    "\n",
    "#param = [0=\"weak\", 1=\"strong\"]\n",
    "\n",
    "class User():\n",
    "    def __init__(self, data_ratio=0.2, param_ratio=0.5):\n",
    "        data = [0,1]\n",
    "        param = [0,1]\n",
    "        \n",
    "        temp_data = random.choices(data, weights=[1-data_ratio, data_ratio])[0]\n",
    "        self.param = random.choices(param, weights=[1-param_ratio, param_ratio])[0]\n",
    "        self.data = Data(temp_data)\n",
    "        \n",
    "        self.mec = Mechanism(self.param)\n",
    "        \n",
    "    def send(self):\n",
    "        temp_data = self.mec.perturb(self.data.data)\n",
    "        return Data(temp_data, is_perturbed=True, orig_data=self.data.data, param=self.param)\n",
    "        s\n",
    "class Mechanism():\n",
    "    def __init__(self, param=0):\n",
    "        self.data = [0,1]\n",
    "        \n",
    "        def probability(param):\n",
    "            if param == 0:\n",
    "                return np.array([[0.8,0.2],[0.2,0.8]])\n",
    "            else:\n",
    "                return np.array([[0.6,0.4],[0.4,0.6]])\n",
    "            \n",
    "        self.distribution = probability(param)\n",
    "    \n",
    "    def perturb(self, data):\n",
    "        distribution = self.distribution[data]\n",
    "        return random.choices(self.data, distribution)[0]\n",
    "    \n",
    "    \n",
    "class Data():\n",
    "    def __init__(self, data=0 ,is_perturbed=False, orig_data=None, param=None):\n",
    "        self.data = data\n",
    "        \n",
    "        if is_perturbed:\n",
    "            self.orig_data = orig_data\n",
    "            self.param = param"
   ]
  },
  {
   "cell_type": "code",
   "execution_count": 578,
   "metadata": {},
   "outputs": [],
   "source": [
    "import numpy as np\n",
    "\n",
    "#data_ratio = 0.1\n",
    "#param_ratio = 0.5\n",
    "\n",
    "#p_bb = (1-param_ratio) * Mechanism(0).distribution[0][0] + param_ratio * Mechanism(1).distribution[0][0]\n",
    "def est_pi(obs, p_bb):\n",
    "    return (p_bb - 1)/(2 * p_bb - 1) + obs/(2 * p_bb - 1)\n",
    "def var_pi(obs, univ, p_bb):\n",
    "    pi = est_pi(obs, p_bb)\n",
    "    return pi*(1-pi)/(univ-1) + (1/(16*((p_bb - 0.5) ** 2)) - (1/4))/(univ-1)\n",
    "def analyze(collected_data):\n",
    "    \n",
    "    univ = len(collected_data)\n",
    "    \n",
    "    data_from_param0 = [data for data in collected_data if data.param == 0]\n",
    "    data_from_param1 = [data for data in collected_data if data.param == 1]\n",
    "    \n",
    "    param_ratio = len(data_from_param1)/(len(data_from_param0) + len(data_from_param1))\n",
    "    \n",
    "    obs = np.sum([data.data for data in collected_data])/univ\n",
    "    \n",
    "    p_bb = (1-param_ratio) * Mechanism(0).distribution[0][0] + param_ratio * Mechanism(1).distribution[0][0]\n",
    "    \n",
    "    #print(\"est\", est_pi(obs, p_bb))\n",
    "    #print(\"std\", np.sqrt(var_pi(obs, univ, p_bb)))\n",
    "    \n",
    "    return est_pi(obs, p_bb)\n",
    "    \n",
    "def collect(data_ratio, param_ratio, num_univ=1000):\n",
    "    collected_data = []\n",
    "    for _ in range(num_univ):\n",
    "        user = User(data_ratio=data_ratio, param_ratio=param_ratio)\n",
    "        collected_data.append(user.send())\n",
    "    return collected_data"
   ]
  },
  {
   "cell_type": "code",
   "execution_count": 579,
   "metadata": {},
   "outputs": [],
   "source": [
    "def k_0(data, secret=False, param_ratio=None):\n",
    "    if not secret:\n",
    "        return 2 * Mechanism(data.param).distribution[1][data.data] - 1\n",
    "    else:\n",
    "        return 2 * (param_ratio * Mechanism(param=0).distribution[1][data.data] + (1-param_ratio) * Mechanism(param=1).distribution[1][data.data]) - 1                \n",
    "def k_1(data, secret=False, param_ratio=None):\n",
    "    if not secret:\n",
    "        return Mechanism(data.param).distribution[1][data.data] - 1\n",
    "    else:\n",
    "        return param_ratio * Mechanism(param=0).distribution[1][data.data] + (1-param_ratio) * Mechanism(param=1).distribution[1][data.data] - 1\n",
    "\n",
    "def likelyhood(collected_data):\n",
    "    def likelyhood(ratio):\n",
    "        result = 0\n",
    "        for data in collected_data:\n",
    "            result += np.log(ratio * k_0(data) - k_1(data))\n",
    "        return result\n",
    "    return likelyhood"
   ]
  },
  {
   "cell_type": "code",
   "execution_count": 580,
   "metadata": {},
   "outputs": [],
   "source": [
    "def cp_coef(data):\n",
    "    other_data = make_other_data(data)\n",
    "    \n",
    "    term3 = k_0(data)\n",
    "    for data_ in other_data:\n",
    "        term3 *= k_0(data_)\n",
    "    \n",
    "    term2 = 0\n",
    "    for data_ in other_data:\n",
    "        other_data_ = make_other_data(data_)\n",
    "        term2 -= k_1(data_)*np.prod([k_0(data__) for data__ in other_data_])\n",
    "        \n",
    "    term1 = 0\n",
    "    for data_ in other_data:\n",
    "        ohter_data_ = make_other_data(data_)\n",
    "        term1 += k_0(data) * k_0(data_)*np.prod([k_1(data__) for data__ in other_data_]) / k_1(data)\n",
    "    #term1 *= k_0(data) / k_1(data)\n",
    "    \n",
    "    term0 = -k_0(data)\n",
    "    for data_ in other_data:\n",
    "        term0 *= k_1(data_)\n",
    "    \n",
    "    return np.array([term3, term2, term1, term0])"
   ]
  },
  {
   "cell_type": "code",
   "execution_count": 581,
   "metadata": {},
   "outputs": [],
   "source": [
    "def make_other_data(in_data):\n",
    "    param = in_data.param\n",
    "    data = in_data.data\n",
    "    \n",
    "    inv_param = int(not param)\n",
    "    inv_data = int(not data)\n",
    "    \n",
    "    data0 = Data(data=data, is_perturbed=True, param=inv_param)\n",
    "    data1 = Data(data=inv_data, is_perturbed=True, param=inv_param)\n",
    "    data2 = Data(data=inv_data, is_perturbed=True, param=param)\n",
    "    \n",
    "    return [data0, data1, data2]"
   ]
  },
  {
   "cell_type": "code",
   "execution_count": 582,
   "metadata": {},
   "outputs": [],
   "source": [
    "from sympy import solve\n",
    "from sympy import re\n",
    "from sympy import Symbol\n",
    "def max_likelyhood(collected_data, secret=False):\n",
    "    z_0w = Data(data=0, is_perturbed=True, param=0)\n",
    "    z_1w = Data(data=1, is_perturbed=True, param=0)\n",
    "    z_0s = Data(data=0, is_perturbed=True, param=1)\n",
    "    z_1s = Data(data=1, is_perturbed=True, param=1)\n",
    "    \n",
    "    data_from_param0_and_z0 = [data for data in collected_data if data.param == 0 and data.data == 0]\n",
    "    data_from_param1_and_z0 = [data for data in collected_data if data.param == 1 and data.data == 0]\n",
    "    data_from_param0_and_z1 = [data for data in collected_data if data.param == 0 and data.data == 1]\n",
    "    data_from_param1_and_z1 = [data for data in collected_data if data.param == 1 and data.data == 1]\n",
    "    \n",
    "    data_from_param0 = [data for data in collected_data if data.param == 0]\n",
    "    data_from_param1 = [data for data in collected_data if data.param == 1]\n",
    "    param_ratio = len(data_from_param1)/(len(data_from_param0) + len(data_from_param1))\n",
    "    \n",
    "    coef = len(data_from_param0_and_z0) * cp_coef(z_0w) + len(data_from_param1_and_z0) * cp_coef(z_0s)\\\n",
    "            + len(data_from_param0_and_z1) * cp_coef(z_1w) + len(data_from_param1_and_z1) * cp_coef(z_1s)\n",
    "    \n",
    "    x=Symbol('x')\n",
    "    \n",
    "    def temp(data, x):\n",
    "        other_data = make_other_data(data)\n",
    "        res = k_0(data)\n",
    "        for data_ in other_data:\n",
    "            res *= (x * k_0(data_) - k_1(data_))\n",
    "        return res\n",
    "        \n",
    "    if not secret:\n",
    "\n",
    "        sol = solve(len(data_from_param0_and_z0) * temp(z_0w, x) + len(data_from_param1_and_z0) * (temp(z_0s, x))\\\n",
    "                   + len(data_from_param0_and_z1) * temp(z_1w, x) + len(data_from_param1_and_z1) * temp(z_1s, x))\n",
    "        #sol=solve(coef[0] * (x **3) + coef[1] * (x **2) + coef[2] * x + coef[3], x)\n",
    "        return sol[1]\n",
    "    else:\n",
    "        return ((len(data_from_param0_and_z0) + len(data_from_param1_and_z0)) * k_0(z_0w, secret=True, param_ratio=param_ratio)*k_1(z_1w, secret=True, param_ratio=param_ratio)\\\n",
    "        + (len(data_from_param0_and_z1) + len(data_from_param1_and_z1)) * k_0(z_1w, secret=True, param_ratio=param_ratio)*k_1(z_0w, secret=True, param_ratio=param_ratio))\\\n",
    "        / (len(collected_data) * k_0(z_0w, secret=True, param_ratio=param_ratio) * k_0(z_1w, secret=True, param_ratio=param_ratio))\n",
    "    "
   ]
  },
  {
   "cell_type": "code",
   "execution_count": 583,
   "metadata": {},
   "outputs": [],
   "source": [
    "def cp_ref(collected_data):\n",
    "    data_from_0 = [data for data in collected_data if data.orig_data == 0]\n",
    "    data_from_1 = [data for data in collected_data if data.orig_data == 1]\n",
    "    return len(data_from_1) / (len(data_from_0) + len(data_from_1))\n",
    "\n",
    "def accumurate(data_ratio, param_ratio, n_iter=1000, secret=False, is_likelyhood=True, num_univ=1000):\n",
    "    solved = []\n",
    "    ref = []\n",
    "    for _ in range(n_iter):\n",
    "        collected_data = collect(data_ratio=data_ratio, param_ratio=param_ratio, num_univ=num_univ)\n",
    "        if is_likelyhood:\n",
    "            solved.append(np.float(re(max_likelyhood(collected_data, secret=secret))))\n",
    "        else:\n",
    "            if secret:\n",
    "                solved.append(analyze(collected_data))\n",
    "            else:\n",
    "                data_from_param0 = [data for data in collected_data if data.param == 0]\n",
    "                data_from_param1 = [data for data in collected_data if data.param == 1]\n",
    "                a = analyze(collected_data)\n",
    "                b = analyze(data_from_param0)\n",
    "                c = analyze(data_from_param1)\n",
    "                solved.append((a,b,c))\n",
    "        ref.append(cp_ref(collected_data))\n",
    "        \n",
    "    if isinstance(solved[0], tuple):\n",
    "        temps = []\n",
    "        for i in range(len(solved[0])):\n",
    "            temps.append(analyze_error([temp[i] for temp in solved], ref, verbose=False)[0])\n",
    "        argmax = np.argmin(temps)\n",
    "        solved = [temp[argmax] for temp in solved]\n",
    "        print(f\"choose index {argmax}\")\n",
    "        \n",
    "    return solved, ref\n",
    "\n",
    "def analyze_error(solved, ref, verbose=True):\n",
    "    if verbose:\n",
    "        print(f\"estimation: {np.mean([temp for temp in solved])}\")\n",
    "    errors = []\n",
    "    for solved_, ref_ in zip(solved, ref):\n",
    "        errors.append(np.sqrt((solved_ - ref_) **2))\n",
    "    return np.average(errors), np.std(errors)"
   ]
  },
  {
   "cell_type": "markdown",
   "metadata": {},
   "source": [
    "#### 4通り\n",
    "- 尤度推定\n",
    "    - 秘匿パラメータ=True\n",
    "    - 秘匿パラメータ=False\n",
    "- 近似\n",
    "    - 秘匿パラメータ=True\n",
    "    \n",
    "比較は秘匿パラメータの最高 vs 公開パラメータの最高\n",
    "\n",
    "とりあえず最初は三種類で比較すれば良い\n",
    "\n",
    "色々なデータの分布で試す"
   ]
  },
  {
   "cell_type": "code",
   "execution_count": 584,
   "metadata": {},
   "outputs": [],
   "source": [
    "def results(data_ratios, secret, n_univ, n_iter):\n",
    "    results = {data_ratio:0 for data_ratio in data_ratios}\n",
    "    for data_ratio in data_ratios:\n",
    "        print(f\"data_ratio:{data_ratio}\")\n",
    "        if secret:\n",
    "            print(\"secret\")\n",
    "            likely = analyze_error(*accumurate(data_ratio=data_ratio, param_ratio=0.5, n_iter=n_iter, secret=True, is_likelyhood=True, num_univ=n_univ))\n",
    "            appro = analyze_error(*accumurate(data_ratio=data_ratio, param_ratio=0.5, n_iter=n_iter, secret=True, is_likelyhood=False, num_univ=n_univ))\n",
    "        else:\n",
    "            print(\"public\")\n",
    "            likely = analyze_error(*accumurate(data_ratio=data_ratio, param_ratio=0.5, n_iter=n_iter, secret=False, is_likelyhood=True, num_univ=n_univ))\n",
    "            appro = analyze_error(*accumurate(data_ratio=data_ratio, param_ratio=0.5, n_iter=n_iter, secret=False, is_likelyhood=False, num_univ=n_univ))\n",
    "        results[data_ratio] = [likely, appro]\n",
    "    return results"
   ]
  },
  {
   "cell_type": "code",
   "execution_count": null,
   "metadata": {},
   "outputs": [
    {
     "name": "stdout",
     "output_type": "stream",
     "text": [
      "data_ratio:0\n",
      "secret\n",
      "estimation: -1.1379304234462956e-05\n",
      "estimation: 5.362818267676688e-05\n",
      "data_ratio:0.1\n",
      "secret\n",
      "estimation: 0.0996494334186329\n",
      "estimation: 0.09989963386713949\n",
      "data_ratio:0.2\n",
      "secret\n",
      "estimation: 0.20018325551412902\n",
      "estimation: 0.20003385299160442\n",
      "data_ratio:0.3\n",
      "secret\n",
      "estimation: 0.3002402369487796\n",
      "estimation: 0.2998594052040887\n",
      "data_ratio:0.4\n",
      "secret\n"
     ]
    }
   ],
   "source": [
    "n_univ = 10000\n",
    "n_iter = 10000\n",
    "data_ratios = [0,0.1,0.2,0.3,0.4,0.5,0.6,0.7,0.8,0.9,1]\n",
    "results_secret = results(data_ratios, secret=True, n_univ=n_univ, n_iter=n_iter)\n",
    "#results_public = results(data_ratios, secret=False, n_univ=n_univ, n_iter=n_iter)"
   ]
  },
  {
   "cell_type": "code",
   "execution_count": 593,
   "metadata": {},
   "outputs": [
    {
     "data": {
      "text/plain": [
       "<matplotlib.legend.Legend at 0x7f86c93e6c88>"
      ]
     },
     "execution_count": 593,
     "metadata": {},
     "output_type": "execute_result"
    },
    {
     "data": {
      "image/png": "[encoded data removed]",
      "text/plain": [
       "<Figure size 432x288 with 1 Axes>"
      ]
     },
     "metadata": {
      "needs_background": "light"
     },
     "output_type": "display_data"
    }
   ],
   "source": [
    "import matplotlib.pyplot as plt\n",
    "plt.plot(data_ratios, [result[0][0] for _, result in results_public.items()], label=\"public_likelyhood\")\n",
    "plt.plot(data_ratios, [result[1][0] for _, result in results_public.items()], label=\"public_estimator\")\n",
    "plt.plot(data_ratios, [result[0][0] for _, result in results_secret.items()], label=\"secret_likelyhood\")\n",
    "plt.plot(data_ratios, [result[1][0] for _, result in results_secret.items()], label=\"secret_estimator\")\n",
    "plt.legend()\n",
    "#plt.savefig(f\"results/univ_{n_univ}_param_{param_ratio}_n_iter_{n_iter}.eps\")"
   ]
  },
  {
   "cell_type": "code",
   "execution_count": 5,
   "metadata": {},
   "outputs": [
    {
     "ename": "NameError",
     "evalue": "name 'data_ratios' is not defined",
     "output_type": "error",
     "traceback": [
      "\u001b[0;31m---------------------------------------------------------------------------\u001b[0m",
      "\u001b[0;31mNameError\u001b[0m                                 Traceback (most recent call last)",
      "\u001b[0;32m<ipython-input-5-547c8530ec7c>\u001b[0m in \u001b[0;36m<module>\u001b[0;34m\u001b[0m\n\u001b[1;32m      1\u001b[0m \u001b[0;32mimport\u001b[0m \u001b[0mmatplotlib\u001b[0m\u001b[0;34m.\u001b[0m\u001b[0mpyplot\u001b[0m \u001b[0;32mas\u001b[0m \u001b[0mplt\u001b[0m\u001b[0;34m\u001b[0m\u001b[0;34m\u001b[0m\u001b[0m\n\u001b[0;32m----> 2\u001b[0;31m \u001b[0mplt\u001b[0m\u001b[0;34m.\u001b[0m\u001b[0mplot\u001b[0m\u001b[0;34m(\u001b[0m\u001b[0mdata_ratios\u001b[0m\u001b[0;34m,\u001b[0m \u001b[0;34m[\u001b[0m\u001b[0mresult\u001b[0m\u001b[0;34m[\u001b[0m\u001b[0;36m0\u001b[0m\u001b[0;34m]\u001b[0m\u001b[0;34m[\u001b[0m\u001b[0;36m0\u001b[0m\u001b[0;34m]\u001b[0m \u001b[0;32mfor\u001b[0m \u001b[0m_\u001b[0m\u001b[0;34m,\u001b[0m \u001b[0mresult\u001b[0m \u001b[0;32min\u001b[0m \u001b[0mresults_public\u001b[0m\u001b[0;34m.\u001b[0m\u001b[0mitems\u001b[0m\u001b[0;34m(\u001b[0m\u001b[0;34m)\u001b[0m\u001b[0;34m]\u001b[0m\u001b[0;34m,\u001b[0m \u001b[0mlabel\u001b[0m\u001b[0;34m=\u001b[0m\u001b[0;34m\"公開_尤度推定\"\u001b[0m\u001b[0;34m)\u001b[0m\u001b[0;34m\u001b[0m\u001b[0;34m\u001b[0m\u001b[0m\n\u001b[0m\u001b[1;32m      3\u001b[0m \u001b[0mplt\u001b[0m\u001b[0;34m.\u001b[0m\u001b[0mplot\u001b[0m\u001b[0;34m(\u001b[0m\u001b[0mdata_ratios\u001b[0m\u001b[0;34m,\u001b[0m \u001b[0;34m[\u001b[0m\u001b[0mresult\u001b[0m\u001b[0;34m[\u001b[0m\u001b[0;36m1\u001b[0m\u001b[0;34m]\u001b[0m\u001b[0;34m[\u001b[0m\u001b[0;36m0\u001b[0m\u001b[0;34m]\u001b[0m \u001b[0;32mfor\u001b[0m \u001b[0m_\u001b[0m\u001b[0;34m,\u001b[0m \u001b[0mresult\u001b[0m \u001b[0;32min\u001b[0m \u001b[0mresults_public\u001b[0m\u001b[0;34m.\u001b[0m\u001b[0mitems\u001b[0m\u001b[0;34m(\u001b[0m\u001b[0;34m)\u001b[0m\u001b[0;34m]\u001b[0m\u001b[0;34m,\u001b[0m \u001b[0mlabel\u001b[0m\u001b[0;34m=\u001b[0m\u001b[0;34m\"公開_推定量\"\u001b[0m\u001b[0;34m)\u001b[0m\u001b[0;34m\u001b[0m\u001b[0;34m\u001b[0m\u001b[0m\n\u001b[1;32m      4\u001b[0m \u001b[0mplt\u001b[0m\u001b[0;34m.\u001b[0m\u001b[0mplot\u001b[0m\u001b[0;34m(\u001b[0m\u001b[0mdata_ratios\u001b[0m\u001b[0;34m,\u001b[0m \u001b[0;34m[\u001b[0m\u001b[0mresult\u001b[0m\u001b[0;34m[\u001b[0m\u001b[0;36m0\u001b[0m\u001b[0;34m]\u001b[0m\u001b[0;34m[\u001b[0m\u001b[0;36m0\u001b[0m\u001b[0;34m]\u001b[0m \u001b[0;32mfor\u001b[0m \u001b[0m_\u001b[0m\u001b[0;34m,\u001b[0m \u001b[0mresult\u001b[0m \u001b[0;32min\u001b[0m \u001b[0mresults_secret\u001b[0m\u001b[0;34m.\u001b[0m\u001b[0mitems\u001b[0m\u001b[0;34m(\u001b[0m\u001b[0;34m)\u001b[0m\u001b[0;34m]\u001b[0m\u001b[0;34m,\u001b[0m \u001b[0mlabel\u001b[0m\u001b[0;34m=\u001b[0m\u001b[0;34m\"秘匿_尤度推定\"\u001b[0m\u001b[0;34m)\u001b[0m\u001b[0;34m\u001b[0m\u001b[0;34m\u001b[0m\u001b[0m\n\u001b[1;32m      5\u001b[0m \u001b[0mplt\u001b[0m\u001b[0;34m.\u001b[0m\u001b[0mplot\u001b[0m\u001b[0;34m(\u001b[0m\u001b[0mdata_ratios\u001b[0m\u001b[0;34m,\u001b[0m \u001b[0;34m[\u001b[0m\u001b[0mresult\u001b[0m\u001b[0;34m[\u001b[0m\u001b[0;36m1\u001b[0m\u001b[0;34m]\u001b[0m\u001b[0;34m[\u001b[0m\u001b[0;36m0\u001b[0m\u001b[0;34m]\u001b[0m \u001b[0;32mfor\u001b[0m \u001b[0m_\u001b[0m\u001b[0;34m,\u001b[0m \u001b[0mresult\u001b[0m \u001b[0;32min\u001b[0m \u001b[0mresults_secret\u001b[0m\u001b[0;34m.\u001b[0m\u001b[0mitems\u001b[0m\u001b[0;34m(\u001b[0m\u001b[0;34m)\u001b[0m\u001b[0;34m]\u001b[0m\u001b[0;34m,\u001b[0m \u001b[0mlabel\u001b[0m\u001b[0;34m=\u001b[0m\u001b[0;34m\"秘匿_推定量\"\u001b[0m\u001b[0;34m)\u001b[0m\u001b[0;34m\u001b[0m\u001b[0;34m\u001b[0m\u001b[0m\n",
      "\u001b[0;31mNameError\u001b[0m: name 'data_ratios' is not defined"
     ]
    }
   ],
   "source": [
    "import matplotlib.pyplot as plt\n",
    "plt.plot(data_ratios, [result[0][0] for _, result in results_public.items()], label=\"公開_最尤推定\")\n",
    "plt.plot(data_ratios, [result[1][0] for _, result in results_public.items()], label=\"公開_推定量\")\n",
    "plt.plot(data_ratios, [result[0][0] for _, result in results_secret.items()], label=\"秘匿_最尤推定\")\n",
    "plt.plot(data_ratios, [result[1][0] for _, result in results_secret.items()], label=\"秘匿_推定量\")\n",
    "plt.legend(fontsize=12)\n",
    "plt.xlabel(\"データ頻度\", fontsize=15)\n",
    "plt.ylabel(\"推定値の誤差の標準偏差\", fontsize=15)\n",
    "\n",
    "\n",
    "#plt.savefig(f\"results/univ_{n_univ}_param_{param_ratio}_n_iter_{n_iter}.eps\",bbox_inches=\"tight\", pad_inches=0.0)"
   ]
  },
  {
   "cell_type": "code",
   "execution_count": 8,
   "metadata": {},
   "outputs": [
    {
     "name": "stderr",
     "output_type": "stream",
     "text": [
      "The PostScript backend does not support transparency; partially transparent artists will be rendered opaque.\n",
      "The PostScript backend does not support transparency; partially transparent artists will be rendered opaque.\n",
      "The PostScript backend does not support transparency; partially transparent artists will be rendered opaque.\n",
      "The PostScript backend does not support transparency; partially transparent artists will be rendered opaque.\n"
     ]
    },
    {
     "data": {
      "image/png": "[encoded data removed]",
      "text/plain": [
       "<Figure size 432x288 with 1 Axes>"
      ]
     },
     "metadata": {
      "needs_background": "light"
     },
     "output_type": "display_data"
    }
   ],
   "source": [
    "import matplotlib.pyplot as plt\n",
    "import japanize_matplotlib\n",
    "param_ratios = list(results_public.keys())\n",
    "plt.plot(param_ratios, [result[0][0] for _, result in results_public.items()], linestyle=\"dashed\", marker=\"o\", label=\"公開_最尤推定\")\n",
    "plt.plot(param_ratios, [result[1][0] for _, result in results_public.items()], linestyle=\"dashed\", marker=\"x\", label=\"公開_推定量\")\n",
    "plt.plot(param_ratios, [result[0][0] for _, result in results_secret.items()], marker=\"s\", label=\"秘匿_最尤推定\")\n",
    "plt.plot(param_ratios, [result[1][0] for _, result in results_secret.items()], marker=\"+\", label=\"秘匿_推定量\")\n",
    "plt.legend(fontsize=12, framealpha=0.4)\n",
    "plt.xlabel(\"データ頻度比\", fontsize=15)\n",
    "plt.ylabel(\"推定値の誤差の平均\", fontsize=15)\n",
    "plt.xlim(0,1)\n",
    "\n",
    "\n",
    "plt.savefig(f\"univ_{n_univ}_param_{param_ratio}_n_iter_{n_iter}.eps\",bbox_inches=\"tight\", pad_inches=0.0)\n",
    "\n"
   ]
  },
  {
   "cell_type": "code",
   "execution_count": 9,
   "metadata": {},
   "outputs": [
    {
     "data": {
      "text/plain": [
       "[0, 0.1, 0.2, 0.3, 0.4, 0.5, 0.6, 0.7, 0.8, 0.9, 1]"
      ]
     },
     "execution_count": 9,
     "metadata": {},
     "output_type": "execute_result"
    }
   ],
   "source": [
    "param_ratios"
   ]
  },
  {
   "cell_type": "code",
   "execution_count": 7,
   "metadata": {},
   "outputs": [],
   "source": [
    "import pickle\n",
    "n_univ = 100\n",
    "n_iter = 10000\n",
    "param_ratio = 0.5\n",
    "#with open(f\"data/univ_{n_univ}_param_{param_ratio}_n_iter_{n_iter}.pkl\", \"wb\") as f:\n",
    "#    pickle.dump([results_public, results_secret], f)\n",
    "with open(f\"data/univ_{n_univ}_param_{param_ratio}_n_iter_{n_iter}.pkl\", \"rb\") as f:\n",
    "    results_public, results_secret = pickle.load(f)"
   ]
  },
  {
   "cell_type": "code",
   "execution_count": 628,
   "metadata": {},
   "outputs": [],
   "source": [
    "n_univ = 10000\n",
    "param_ratio = 0.5\n",
    "n_iter = 10000\n",
    "with open(f\"data/univ_{n_univ}_param_{param_ratio}_n_iter_{n_iter}.pkl\", \"rb\") as f:\n",
    "    results_public, results_secret = pickle.load(f)"
   ]
  },
  {
   "cell_type": "code",
   "execution_count": 10,
   "metadata": {},
   "outputs": [
    {
     "name": "stdout",
     "output_type": "stream",
     "text": [
      "a\n"
     ]
    }
   ],
   "source": [
    "print(\"a\")"
   ]
  },
  {
   "cell_type": "code",
   "execution_count": 553,
   "metadata": {},
   "outputs": [
    {
     "data": {
      "text/plain": [
       "{0: [(0.0989809988225292, 0.07450987197755014),\n",
       "  (0.08928905365886602, 0.06823705406124517)],\n",
       " 0.1: [(0.09561844949652877, 0.07282671019500295),\n",
       "  (0.08946908783837866, 0.06843109284085214)],\n",
       " 0.2: [(0.09433729221187864, 0.070978101566193),\n",
       "  (0.09184980059503497, 0.06914386657045406)],\n",
       " 0.3: [(0.09329275453107506, 0.07005702709706442),\n",
       "  (0.09212790536829918, 0.06887127220364485)],\n",
       " 0.4: [(0.09128955446748266, 0.07007666593722103),\n",
       "  (0.09057340249970676, 0.06941868092334587)],\n",
       " 0.5: [(0.09041675208768134, 0.0693935726870455),\n",
       "  (0.09111056075789889, 0.0692571067288501)],\n",
       " 0.6: [(0.09330187029973548, 0.07032393132902444),\n",
       "  (0.09091700533287815, 0.06854679147611792)],\n",
       " 0.7: [(0.0931271385514471, 0.0701892793293362),\n",
       "  (0.09145544394068691, 0.06961281120790384)],\n",
       " 0.8: [(0.09332981947428186, 0.07090086124095778),\n",
       "  (0.09008370966607993, 0.06878879398243988)],\n",
       " 0.9: [(0.09407348369754234, 0.07136386002694123),\n",
       "  (0.08968046964763018, 0.06704416768026755)],\n",
       " 1: [(0.0991450658863115, 0.0751328032010929),\n",
       "  (0.08909924785817805, 0.06763688276127881)]}"
      ]
     },
     "execution_count": 553,
     "metadata": {},
     "output_type": "execute_result"
    }
   ],
   "source": [
    "results_secret"
   ]
  },
  {
   "cell_type": "code",
   "execution_count": 6,
   "metadata": {},
   "outputs": [],
   "source": [
    "import japanize_matplotlib"
   ]
  },
  {
   "cell_type": "code",
   "execution_count": null,
   "metadata": {},
   "outputs": [],
   "source": []
  }
 ],
 "metadata": {
  "kernelspec": {
   "display_name": "Python 3",
   "language": "python",
   "name": "python3"
  },
  "language_info": {
   "codemirror_mode": {
    "name": "ipython",
    "version": 3
   },
   "file_extension": ".py",
   "mimetype": "text/x-python",
   "name": "python",
   "nbconvert_exporter": "python",
   "pygments_lexer": "ipython3",
   "version": "3.7.6"
  }
 },
 "nbformat": 4,
 "nbformat_minor": 4
}
