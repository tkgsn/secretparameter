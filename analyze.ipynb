{
 "cells": [
  {
   "cell_type": "code",
   "execution_count": 4,
   "metadata": {},
   "outputs": [],
   "source": [
    "import random\n",
    "import numpy as np\n",
    "\n",
    "#param = [0=\"weak\", 1=\"strong\"]\n",
    "\n",
    "class User():\n",
    "    def __init__(self, data_ratio=0.2, param_ratio=0.5):\n",
    "        data = [0,1]\n",
    "        param = [0,1]\n",
    "        \n",
    "        temp_data = random.choices(data, weights=[1-data_ratio, data_ratio])[0]\n",
    "        self.param = random.choices(param, weights=[1-param_ratio, param_ratio])[0]\n",
    "        self.data = Data(temp_data)\n",
    "        \n",
    "        self.mec = Mechanism(self.param)\n",
    "        \n",
    "    def send(self):\n",
    "        temp_data = self.mec.perturb(self.data.data)\n",
    "        return Data(mec=self.mec, data=temp_data, is_perturbed=True, orig_data=self.data.data)\n",
    "\n",
    "class Mechanism():\n",
    "    def __init__(self, param=0):\n",
    "        self.data = [0,1]\n",
    "        \n",
    "        def probability(param):\n",
    "            if param == 0:\n",
    "                return np.array([[0.8,0.2],[0.2,0.8]])\n",
    "            else:\n",
    "                return np.array([[0.6,0.4],[0.4,0.6]])\n",
    "            \n",
    "        self.distribution = probability(param)\n",
    "        self.param=param\n",
    "    \n",
    "    def make_mec(self, eps):\n",
    "        prob = np.exp(eps)/(np.exp(eps) + 1)\n",
    "        self.distribution = np.array([[prob, 1-prob],[1-prob,prob]])\n",
    "        return self.distribution\n",
    "    \n",
    "    def perturb(self, data):\n",
    "        distribution = self.distribution[data]\n",
    "        return random.choices(self.data, distribution)[0]\n",
    "    \n",
    "    def cp_LDP_epsilon(self):\n",
    "        assert self.distribution is not None\n",
    "        epsilon = np.abs(np.log(self.distribution[0][0] / self.distribution[1][0]))\n",
    "        return epsilon\n",
    "    \n",
    "def cp_PBP_epsilon(mec1, mec2, prior):\n",
    "    assert np.sum(prior) == 1\n",
    "    epsilon1 = mec1.cp_LDP_epsilon()\n",
    "    epsilon2 = mec2.cp_LDP_epsilon()\n",
    "    \n",
    "    prior = np.array(prior)\n",
    "    dist1 = prior[0] * mec1.distribution\n",
    "    dist2 = prior[1] * mec2.distribution\n",
    "    \n",
    "    dif1 = np.abs(np.log(dist1[0][0] / dist2[0][0]))\n",
    "    dif2 = np.abs(np.log(dist1[0][1] / dist2[0][1]))\n",
    "    \n",
    "    epsilon_prime = np.min([epsilon1, epsilon2]) + np.max([dif1, dif2])\n",
    "    if epsilon_prime < np.max([epsilon1, epsilon2]):\n",
    "        return epsilon_prime\n",
    "    else:\n",
    "        return np.max([epsilon1, epsilon2])\n",
    "\n",
    "\"\"\"\n",
    "def cp_PBP_epsilon(mec1, mec2, prior):\n",
    "    assert np.sum(prior) == 1\n",
    "    \n",
    "    prior = np.array(prior)\n",
    "    dist1 = prior[0] * mec1.distribution\n",
    "    dist2 = prior[1] * mec2.distribution\n",
    "    \n",
    "    dif1 = np.log(dist1[0][0] / dist2[1][0])\n",
    "    dif2 = np.log(dist1[0][1] / dist2[1][1])\n",
    "    \n",
    "    dif1_ = np.log(dist1[0][0] / dist1[1][0])\n",
    "    dif2_ = np.log(dist1[0][1] / dist1[1][1])\n",
    "    \n",
    "    epsilon1 = np.max([dif1, dif2])\n",
    "    epsilon2 = np.max([dif1_, dif2_])\n",
    "    \n",
    "    epsilon = np.min([epsilon1, epsilon2])\n",
    "    \n",
    "    return epsilon\n",
    "\"\"\"\n",
    "class Data():\n",
    "    def __init__(self, data=0 ,is_perturbed=False, orig_data=None, mec=None):\n",
    "        self.data = data\n",
    "        \n",
    "        if is_perturbed:\n",
    "            self.orig_data = orig_data\n",
    "            self.mec = mec\n",
    "            \n",
    "def cp_fair_eps(param_ratio):\n",
    "    mec1 = Mechanism(param=0)\n",
    "    mec2 = Mechanism(param=1)\n",
    "    eps = cp_PBP_epsilon(mec1, mec2, [param_ratio,1-param_ratio])\n",
    "    return eps"
   ]
  },
  {
   "cell_type": "code",
   "execution_count": 5,
   "metadata": {},
   "outputs": [],
   "source": [
    "mec1 = Mechanism(0)\n",
    "mec2 = Mechanism(1)"
   ]
  },
  {
   "cell_type": "code",
   "execution_count": 16,
   "metadata": {},
   "outputs": [
    {
     "name": "stderr",
     "output_type": "stream",
     "text": [
      "<ipython-input-4-47e386439dae>:57: RuntimeWarning: divide by zero encountered in log\n",
      "  dif1 = np.abs(np.log(dist1[0][0] / dist2[0][0]))\n",
      "<ipython-input-4-47e386439dae>:58: RuntimeWarning: divide by zero encountered in log\n",
      "  dif2 = np.abs(np.log(dist1[0][1] / dist2[0][1]))\n",
      "<ipython-input-4-47e386439dae>:57: RuntimeWarning: divide by zero encountered in double_scalars\n",
      "  dif1 = np.abs(np.log(dist1[0][0] / dist2[0][0]))\n",
      "<ipython-input-4-47e386439dae>:58: RuntimeWarning: divide by zero encountered in double_scalars\n",
      "  dif2 = np.abs(np.log(dist1[0][1] / dist2[0][1]))\n",
      "The PostScript backend does not support transparency; partially transparent artists will be rendered opaque.\n",
      "The PostScript backend does not support transparency; partially transparent artists will be rendered opaque.\n",
      "The PostScript backend does not support transparency; partially transparent artists will be rendered opaque.\n",
      "The PostScript backend does not support transparency; partially transparent artists will be rendered opaque.\n"
     ]
    },
    {
     "data": {
      "image/png": "[encoded data removed]",
      "text/plain": [
       "<Figure size 432x288 with 1 Axes>"
      ]
     },
     "metadata": {
      "needs_background": "light"
     },
     "output_type": "display_data"
    }
   ],
   "source": [
    "prob = np.linspace(0,1, 50)\n",
    "eps_range = range(22,33)\n",
    "eps = []\n",
    "eps_ = []\n",
    "for pro in prob:\n",
    "    mec1 = Mechanism(0)\n",
    "    mec2 = Mechanism(1)\n",
    "    theta_w_epsilon = cp_PBP_epsilon(mec1, mec2, [pro, 1-pro])\n",
    "    theta_s_epsilon = cp_PBP_epsilon(mec2, mec1, [1-pro, pro])\n",
    "    #eps.append(theta_w_epsilon if theta_w_epsilon >= 0 else 0)\n",
    "    #eps_.append(theta_s_epsilon if theta_s_epsilon >= 0 else 0)\n",
    "    #eps.append(cp_fair_eps(pro))\n",
    "    eps_.append(np.log(1.5))\n",
    "    eps.append(np.log(4))\n",
    "    \n",
    "import matplotlib.pyplot as plt\n",
    "plt.plot(prob, eps, label=\"E(θw)\")\n",
    "plt.plot(prob, eps_, label=\"E(θs )\", linestyle=\"dashed\")\n",
    "plt.xlabel(\"$\\Pr(\\\\theta_w)$\",fontsize=15)\n",
    "plt.ylabel(\"The distinguishability $E$\",fontsize=15)\n",
    "plt.legend(fontsize=18)\n",
    "plt.xlim(0,1)\n",
    "plt.savefig(\"results/PBP_parameter.eps\",bbox_inches=\"tight\", pad_inches=0.0)"
   ]
  },
  {
   "cell_type": "code",
   "execution_count": 17,
   "metadata": {},
   "outputs": [
    {
     "data": {
      "text/plain": [
       "array([[0.8, 0.2],\n",
       "       [0.2, 0.8]])"
      ]
     },
     "execution_count": 17,
     "metadata": {},
     "output_type": "execute_result"
    }
   ],
   "source": [
    "eps_range = range(22,33)\n",
    "mec = Mechanism()\n",
    "mec.make_mec(eps[22])"
   ]
  },
  {
   "cell_type": "code",
   "execution_count": 4,
   "metadata": {},
   "outputs": [],
   "source": [
    "import numpy as np\n",
    "\n",
    "#data_ratio = 0.1\n",
    "#param_ratio = 0.5\n",
    "\n",
    "#p_bb = (1-param_ratio) * Mechanism(0).distribution[0][0] + param_ratio * Mechanism(1).distribution[0][0]\n",
    "def est_pi(obs, p_bb):\n",
    "    return (p_bb - 1)/(2 * p_bb - 1) + obs/(2 * p_bb - 1)\n",
    "def var_pi(obs, univ, p_bb):\n",
    "    pi = est_pi(obs, p_bb)\n",
    "    return pi*(1-pi)/(univ-1) + (1/(16*((p_bb - 0.5) ** 2)) - (1/4))/(univ-1)\n",
    "def analyze(collected_data):\n",
    "    \n",
    "    univ = len(collected_data)\n",
    "    \n",
    "    data_from_param0 = [data for data in collected_data if data.mec.param == 0]\n",
    "    data_from_param1 = [data for data in collected_data if data.mec.param == 1]\n",
    "    \n",
    "    param_ratio = len(data_from_param1)/(len(data_from_param0) + len(data_from_param1))\n",
    "    \n",
    "    obs = np.sum([data.data for data in collected_data])/univ\n",
    "    \n",
    "    if param_ratio == 0:\n",
    "        p_bb = data_from_param0[0].mec.distribution[0][0]\n",
    "    elif param_ratio == 1:\n",
    "        p_bb = data_from_param1[0].mec.distribution[0][0]\n",
    "    else:\n",
    "        param0_00_prob = data_from_param0[0].mec.distribution[0][0]\n",
    "        param1_00_prob = data_from_param1[0].mec.distribution[0][0]\n",
    "        p_bb = (1-param_ratio) * param0_00_prob + param_ratio * param1_00_prob\n",
    "    \n",
    "    #print(\"est\", est_pi(obs, p_bb))\n",
    "    #print(\"std\", np.sqrt(var_pi(obs, univ, p_bb)))\n",
    "    \n",
    "    return est_pi(obs, p_bb)\n",
    "    \n",
    "def collect(data_ratio, param_ratio, num_univ=1000, fair=False):\n",
    "    collected_data = []\n",
    "    for _ in range(num_univ):\n",
    "        user = User(data_ratio=data_ratio, param_ratio=param_ratio)\n",
    "        if fair:\n",
    "            if user.mec.param == 0:\n",
    "                eps = cp_fair_eps(param_ratio)\n",
    "                user.mec.make_mec(eps)\n",
    "        sent = user.send()\n",
    "        collected_data.append(sent)\n",
    "    return collected_data"
   ]
  },
  {
   "cell_type": "code",
   "execution_count": 5,
   "metadata": {},
   "outputs": [],
   "source": [
    "def k_0_(data, mec0, mec1, secret=False, param_ratio=None):\n",
    "    if not secret:\n",
    "        return 2 * data.mec.distribution[1][data.data] - 1\n",
    "    else:\n",
    "        return 2 * (param_ratio * mec1.distribution[1][data.data] + (1-param_ratio) * mec0.distribution[1][data.data]) - 1                \n",
    "def k_1_(data, mec0, mec1, secret=False, param_ratio=None):\n",
    "    if not secret:\n",
    "        return data.mec.distribution[1][data.data] - 1\n",
    "    else:\n",
    "        return param_ratio * mec1.distribution[1][data.data] + (1-param_ratio) * mec0.distribution[1][data.data] - 1\n",
    "\n",
    "def likelyhood(collected_data):\n",
    "    def likelyhood(ratio):\n",
    "        result = 0\n",
    "        for data in collected_data:\n",
    "            result += np.log(ratio * k_0(data) - k_1(data))\n",
    "        return result\n",
    "    return likelyhood"
   ]
  },
  {
   "cell_type": "code",
   "execution_count": 6,
   "metadata": {},
   "outputs": [],
   "source": [
    "def cp_coef(data):\n",
    "    other_data = make_other_data(data)\n",
    "    \n",
    "    term3 = k_0(data)\n",
    "    for data_ in other_data:\n",
    "        term3 *= k_0(data_)\n",
    "    \n",
    "    term2 = 0\n",
    "    for data_ in other_data:\n",
    "        other_data_ = make_other_data(data_)\n",
    "        term2 -= k_1(data_)*np.prod([k_0(data__) for data__ in other_data_])\n",
    "        \n",
    "    term1 = 0\n",
    "    for data_ in other_data:\n",
    "        ohter_data_ = make_other_data(data_)\n",
    "        term1 += k_0(data) * k_0(data_)*np.prod([k_1(data__) for data__ in other_data_]) / k_1(data)\n",
    "    #term1 *= k_0(data) / k_1(data)\n",
    "    \n",
    "    term0 = -k_0(data)\n",
    "    for data_ in other_data:\n",
    "        term0 *= k_1(data_)\n",
    "    \n",
    "    return np.array([term3, term2, term1, term0])"
   ]
  },
  {
   "cell_type": "code",
   "execution_count": 7,
   "metadata": {},
   "outputs": [],
   "source": [
    "def make_other_data(in_data, mec0, mec1):\n",
    "    param = in_data.mec.param\n",
    "    data = in_data.data\n",
    "    \n",
    "    mec = [mec0, mec1]\n",
    "    inv_param = int(not param)\n",
    "    inv_data = int(not data)\n",
    "    \n",
    "    data0 = Data(mec=mec[inv_param], data=data, is_perturbed=True)\n",
    "    data1 = Data(mec=mec[inv_param], data=inv_data, is_perturbed=True)\n",
    "    data2 = Data(mec=in_data.mec, data=inv_data, is_perturbed=True)\n",
    "    \n",
    "    return [data0, data1, data2]"
   ]
  },
  {
   "cell_type": "code",
   "execution_count": 10,
   "metadata": {},
   "outputs": [],
   "source": [
    "from sympy import solve\n",
    "from sympy import re\n",
    "from sympy import Symbol\n",
    "def max_likelyhood(collected_data, secret=False):\n",
    "    data_from_param0_and_z0 = [data for data in collected_data if data.mec.param == 0 and data.data == 0]\n",
    "    data_from_param1_and_z0 = [data for data in collected_data if data.mec.param == 1 and data.data == 0]\n",
    "    data_from_param0_and_z1 = [data for data in collected_data if data.mec.param == 0 and data.data == 1]\n",
    "    data_from_param1_and_z1 = [data for data in collected_data if data.mec.param == 1 and data.data == 1]\n",
    "    \n",
    "    if len(data_from_param0_and_z0) == 0:\n",
    "        mec0 = data_from_param0_and_z1[0].mec\n",
    "    else:\n",
    "        mec0 = data_from_param0_and_z0[0].mec\n",
    "    if len(data_from_param1_and_z0) == 0:\n",
    "        mec1 = data_from_param1_and_z1[0].mec\n",
    "    else:\n",
    "        mec1 = data_from_param1_and_z0[0].mec\n",
    "\n",
    "    z_0w = Data(mec=mec0, data=0, is_perturbed=True)\n",
    "    z_1w = Data(mec=mec0, data=1, is_perturbed=True)\n",
    "    z_0s = Data(mec=mec1, data=0, is_perturbed=True)\n",
    "    z_1s = Data(mec=mec1, data=1, is_perturbed=True)\n",
    "    \n",
    "    data_from_param0 = [data for data in collected_data if data.mec.param == 0]\n",
    "    data_from_param1 = [data for data in collected_data if data.mec.param == 1]\n",
    "    param_ratio = len(data_from_param1)/(len(data_from_param0) + len(data_from_param1))\n",
    "    \n",
    "    #coef = len(data_from_param0_and_z0) * cp_coef(z_0w) + len(data_from_param1_and_z0) * cp_coef(z_0s)\\\n",
    "    #        + len(data_from_param0_and_z1) * cp_coef(z_1w) + len(data_from_param1_and_z1) * cp_coef(z_1s)\n",
    "    \n",
    "    x=Symbol('x')\n",
    "    \n",
    "    def k_0(data, secret=False, param_ratio=None):\n",
    "        return k_0_(data, mec0, mec1, secret, param_ratio)\n",
    "    def k_1(data, secret=False, param_ratio=None):\n",
    "        return k_1_(data, mec0, mec1, secret, param_ratio)\n",
    "        \n",
    "    \n",
    "    def temp(data, x):\n",
    "        other_data = make_other_data(data, data_from_param0_and_z0[0].mec, data_from_param1_and_z0[0].mec)\n",
    "        res = k_0(data)\n",
    "        for data_ in other_data:\n",
    "            res *= (x * k_0(data_) - k_1(data_))\n",
    "        return res\n",
    "        \n",
    "    if not secret:\n",
    "\n",
    "        sol = solve(len(data_from_param0_and_z0) * temp(z_0w, x) + len(data_from_param1_and_z0) * (temp(z_0s, x))\\\n",
    "                   + len(data_from_param0_and_z1) * temp(z_1w, x) + len(data_from_param1_and_z1) * temp(z_1s, x))\n",
    "        #sol=solve(coef[0] * (x **3) + coef[1] * (x **2) + coef[2] * x + coef[3], x)\n",
    "        return sol[1]\n",
    "    else:\n",
    "        return ((len(data_from_param0_and_z0) + len(data_from_param1_and_z0)) * k_0(z_0w, secret=True, param_ratio=param_ratio)*k_1(z_1w, secret=True, param_ratio=param_ratio)\\\n",
    "        + (len(data_from_param0_and_z1) + len(data_from_param1_and_z1)) * k_0(z_1w, secret=True, param_ratio=param_ratio)*k_1(z_0w, secret=True, param_ratio=param_ratio))\\\n",
    "        / (len(collected_data) * k_0(z_0w, secret=True, param_ratio=param_ratio) * k_0(z_1w, secret=True, param_ratio=param_ratio))\n",
    "    "
   ]
  },
  {
   "cell_type": "code",
   "execution_count": 11,
   "metadata": {},
   "outputs": [],
   "source": [
    "def cp_ref(collected_data):\n",
    "    data_from_0 = [data for data in collected_data if data.orig_data == 0]\n",
    "    data_from_1 = [data for data in collected_data if data.orig_data == 1]\n",
    "    return len(data_from_1) / (len(data_from_0) + len(data_from_1))\n",
    "\n",
    "def accumurate(data_ratio, param_ratio, n_iter=1000, secret=False, is_likelyhood=True, num_univ=1000):\n",
    "    solved = []\n",
    "    ref = []\n",
    "    for _ in range(n_iter):\n",
    "        collected_data = collect(data_ratio=data_ratio, param_ratio=param_ratio, num_univ=num_univ, fair=not secret)\n",
    "        if is_likelyhood:\n",
    "            solved.append(np.float(re(max_likelyhood(collected_data, secret=secret))))\n",
    "        else:\n",
    "            if secret:\n",
    "                solved.append(analyze(collected_data))\n",
    "            else:\n",
    "                data_from_param0 = [data for data in collected_data if data.mec.param == 0]\n",
    "                data_from_param1 = [data for data in collected_data if data.mec.param == 1]\n",
    "                a = analyze(collected_data)\n",
    "                b = analyze(data_from_param0)\n",
    "                c = analyze(data_from_param1)\n",
    "                solved.append((a,b,c))\n",
    "        ref.append(cp_ref(collected_data))\n",
    "        \n",
    "    if isinstance(solved[0], tuple):\n",
    "        temps = []\n",
    "        for i in range(len(solved[0])):\n",
    "            temps.append(analyze_error([temp[i] for temp in solved], ref, verbose=False)[0])\n",
    "        argmax = np.argmin(temps)\n",
    "        solved = [temp[argmax] for temp in solved]\n",
    "        print(f\"choose index {argmax}\")\n",
    "        \n",
    "    return solved, ref\n",
    "\n",
    "def accumurate_prior_exp(param_ratio, n_iter=1000, secret=False, is_likelyhood=True, num_univ=100):\n",
    "    solved = []\n",
    "    ref = []\n",
    "    data_ratio = 0.5\n",
    "    for _ in range(n_iter):\n",
    "        collected_data = collect(data_ratio=data_ratio, param_ratio=param_ratio, num_univ=num_univ, fair=not secret)\n",
    "        if is_likelyhood:\n",
    "            solved.append(np.float(re(max_likelyhood(collected_data, secret=secret))))\n",
    "        else:\n",
    "            if secret:\n",
    "                solved.append(analyze(collected_data))\n",
    "            else:\n",
    "                data_from_param0 = [data for data in collected_data if data.mec.param == 0]\n",
    "                data_from_param1 = [data for data in collected_data if data.mec.param == 1]\n",
    "                a = analyze(collected_data)\n",
    "                b = analyze(data_from_param0)\n",
    "                c = analyze(data_from_param1)\n",
    "                solved.append((a,b,c))\n",
    "        ref.append(cp_ref(collected_data))\n",
    "        \n",
    "    if isinstance(solved[0], tuple):\n",
    "        temps = []\n",
    "        for i in range(len(solved[0])):\n",
    "            temps.append(analyze_error([temp[i] for temp in solved], ref, verbose=False)[0])\n",
    "        argmax = np.argmin(temps)\n",
    "        solved = [temp[argmax] for temp in solved]\n",
    "        print(f\"choose index {argmax}\")\n",
    "        \n",
    "    return solved, ref\n",
    "\n",
    "def analyze_error(solved, ref, verbose=True):\n",
    "    if verbose:\n",
    "        print(f\"estimation: {np.mean([temp for temp in solved])}\")\n",
    "    errors = []\n",
    "    for solved_, ref_ in zip(solved, ref):\n",
    "        errors.append(np.sqrt((solved_ - ref_) **2))\n",
    "    return np.average(errors), np.std(errors)"
   ]
  },
  {
   "cell_type": "markdown",
   "metadata": {},
   "source": [
    "#### 4通り\n",
    "- 尤度推定\n",
    "    - 秘匿パラメータ=True\n",
    "    - 秘匿パラメータ=False\n",
    "- 近似\n",
    "    - 秘匿パラメータ=True\n",
    "    \n",
    "比較は秘匿パラメータの最高 vs 公開パラメータの最高\n",
    "\n",
    "とりあえず最初は三種類で比較すれば良い\n",
    "\n",
    "色々なデータの分布で試す"
   ]
  },
  {
   "cell_type": "code",
   "execution_count": 12,
   "metadata": {},
   "outputs": [],
   "source": [
    "def results(data_ratios, secret, n_univ, n_iter):\n",
    "    results = {data_ratio:0 for data_ratio in data_ratios}\n",
    "    for data_ratio in data_ratios:\n",
    "        print(f\"data_ratio:{data_ratio}\")\n",
    "        if secret:\n",
    "            print(\"secret\")\n",
    "            likely = analyze_error(*accumurate(data_ratio=data_ratio, param_ratio=0.5, n_iter=n_iter, secret=True, is_likelyhood=True, num_univ=n_univ))\n",
    "            appro = analyze_error(*accumurate(data_ratio=data_ratio, param_ratio=0.5, n_iter=n_iter, secret=True, is_likelyhood=False, num_univ=n_univ))\n",
    "        else:\n",
    "            print(\"public\")\n",
    "            likely = analyze_error(*accumurate(data_ratio=data_ratio, param_ratio=0.5, n_iter=n_iter, secret=False, is_likelyhood=True, num_univ=n_univ))\n",
    "            appro = analyze_error(*accumurate(data_ratio=data_ratio, param_ratio=0.5, n_iter=n_iter, secret=False, is_likelyhood=False, num_univ=n_univ))\n",
    "        results[data_ratio] = [likely, appro]\n",
    "    return results\n",
    "\n",
    "def results_prior_exp(param_ratios, secret, n_univ, n_iter):\n",
    "    results = {param_ratio:0 for param_ratio in param_ratios}\n",
    "    for param_ratio in param_ratios:\n",
    "        print(f\"param_ratio:{param_ratio}\")\n",
    "        if secret:\n",
    "            print(\"secret\")\n",
    "            likely = analyze_error(*accumurate_prior_exp(param_ratio=param_ratio, n_iter=n_iter, secret=True, is_likelyhood=True, num_univ=n_univ))\n",
    "            appro = analyze_error(*accumurate_prior_exp(param_ratio=param_ratio, n_iter=n_iter, secret=True, is_likelyhood=False, num_univ=n_univ))\n",
    "        else:\n",
    "            print(\"public\")\n",
    "            likely = analyze_error(*accumurate_prior_exp(param_ratio=param_ratio, n_iter=n_iter, secret=False, is_likelyhood=True, num_univ=n_univ))\n",
    "            appro = analyze_error(*accumurate_prior_exp\n",
    "                                  (param_ratio=param_ratio, n_iter=n_iter, secret=False, is_likelyhood=False, num_univ=n_univ))\n",
    "        results[param_ratio] = [likely, appro]\n",
    "    return results"
   ]
  },
  {
   "cell_type": "code",
   "execution_count": null,
   "metadata": {},
   "outputs": [
    {
     "name": "stdout",
     "output_type": "stream",
     "text": [
      "data_ratio:0.0\n",
      "secret\n",
      "estimation: 2.399265453769529e-05\n",
      "estimation: -5.1270405468015244e-05\n",
      "data_ratio:0.1\n",
      "secret\n",
      "estimation: 0.10006406826526452\n",
      "estimation: 0.09986592295400494\n",
      "data_ratio:0.2\n",
      "secret\n",
      "estimation: 0.19994448571755696\n",
      "estimation: 0.20019505256645842\n",
      "data_ratio:0.30000000000000004\n",
      "secret\n",
      "estimation: 0.29992326083770443\n",
      "estimation: 0.30001925379120487\n",
      "data_ratio:0.4\n",
      "secret\n",
      "estimation: 0.3998654359206104\n",
      "estimation: 0.399995761289543\n",
      "data_ratio:0.5\n",
      "secret\n"
     ]
    }
   ],
   "source": [
    "#import pickle\n",
    "#prob = np.linspace(0,1, 10)\n",
    "#n_univ = 100\n",
    "#n_iter = 10000\n",
    "#results_secret = results(data_ratios=prob, secret=True, n_univ=n_univ, n_iter=n_iter)\n",
    "#results_public = results(data_ratios=prob, secret=False, n_univ=n_univ, n_iter=n_iter)\n",
    "\n",
    "#with open(f\"data/univ_{n_univ}_para_{0.5}_n_iter_{n_iter}_.pkl\", \"wb\") as f:\n",
    "#    pickle.dump([results_public, results_secret], f)\n",
    "    \n",
    "import pickle\n",
    "#prob = np.linspace(0,1, 11)\n",
    "#n_univ = 1000\n",
    "#n_iter = 10000\n",
    "#results_secret_ = results(data_ratios=prob, secret=True, n_univ=n_univ, n_iter=n_iter)\n",
    "#results_public = results(data_ratios=prob, secret=False, n_univ=n_univ, n_iter=n_iter)\n",
    "\n",
    "# open(f\"data/univ_{n_univ}_para_{0.5}_n_iter_{n_iter}_.pkl\", \"wb\") as f:\n",
    "#    pickle.dump([results_public, results_secret], f)\n",
    "    \n",
    "\n",
    "import pickle\n",
    "prob = np.linspace(0,1, 11)\n",
    "n_univ = 10000\n",
    "n_iter = 10000\n",
    "results_secret_ = results(data_ratios=prob, secret=True, n_univ=n_univ, n_iter=n_iter)\n",
    "#results_public = results(data_ratios=prob, secret=False, n_univ=n_univ, n_iter=n_iter)\n",
    "\n",
    "#with open(f\"data/univ_{n_univ}_para_{0.5}_n_iter_{n_iter}_.pkl\", \"wb\") as f:\n",
    "#    pickle.dump([results_public, results_secret], f)"
   ]
  },
  {
   "cell_type": "code",
   "execution_count": 124,
   "metadata": {},
   "outputs": [],
   "source": [
    "#with open(f\"data/univ_{n_univ}_para_{0.5}_n_iter_{n_iter}_temp_.pkl\", \"wb\") as f:\n",
    "#    pickle.dump([results_public, results_secret_], f)"
   ]
  },
  {
   "cell_type": "code",
   "execution_count": 125,
   "metadata": {},
   "outputs": [],
   "source": [
    "prob = np.linspace(0,1, 11)"
   ]
  },
  {
   "cell_type": "code",
   "execution_count": 127,
   "metadata": {},
   "outputs": [
    {
     "name": "stderr",
     "output_type": "stream",
     "text": [
      "The PostScript backend does not support transparency; partially transparent artists will be rendered opaque.\n",
      "The PostScript backend does not support transparency; partially transparent artists will be rendered opaque.\n",
      "The PostScript backend does not support transparency; partially transparent artists will be rendered opaque.\n",
      "The PostScript backend does not support transparency; partially transparent artists will be rendered opaque.\n"
     ]
    },
    {
     "data": {
      "image/png": "[encoded data removed]",
      "text/plain": [
       "<Figure size 432x288 with 1 Axes>"
      ]
     },
     "metadata": {
      "needs_background": "light"
     },
     "output_type": "display_data"
    }
   ],
   "source": [
    "import japanize_matplotlib\n",
    "import matplotlib.pyplot as plt\n",
    "data_ratios = list(results_public.keys())\n",
    "plt.plot(data_ratios, [result[0][0] for _, result in results_public.items()], linestyle=\"dashed\", marker=\"o\", label=\"公開_最尤推定\")\n",
    "plt.plot(data_ratios, [result[1][0] for _, result in results_public.items()], linestyle=\"dashed\", marker=\"x\", label=\"公開_推定量\")\n",
    "plt.plot(data_ratios, [result[0][0] for _, result in results_secret_.items()], marker=\"s\", label=\"秘匿_最尤推定\")\n",
    "plt.plot(data_ratios, [result[1][0] for _, result in results_secret_.items()], marker=\"+\", label=\"秘匿_推定量\")\n",
    "plt.legend(fontsize=12)\n",
    "plt.xlabel(\"パラメータ頻度比(Pr($θ_w$))\", fontsize=15)\n",
    "plt.ylabel(\"推定値の誤差の平均\", fontsize=15)\n",
    "plt.xlim(0,1)\n",
    "\n",
    "plt.savefig(f\"results/univ_{n_univ}_para_{0.5}_n_iter_{n_iter}_temp.eps\",bbox_inches=\"tight\", pad_inches=0.0)"
   ]
  },
  {
   "cell_type": "code",
   "execution_count": null,
   "metadata": {},
   "outputs": [],
   "source": [
    "results_secret"
   ]
  },
  {
   "cell_type": "code",
   "execution_count": 9,
   "metadata": {},
   "outputs": [
    {
     "name": "stdout",
     "output_type": "stream",
     "text": [
      "data_ratio:0\n",
      "secret\n"
     ]
    },
    {
     "ename": "KeyboardInterrupt",
     "evalue": "",
     "output_type": "error",
     "traceback": [
      "\u001b[0;31m---------------------------------------------------------------------------\u001b[0m",
      "\u001b[0;31mKeyboardInterrupt\u001b[0m                         Traceback (most recent call last)",
      "\u001b[0;32m<ipython-input-9-912c125ecad8>\u001b[0m in \u001b[0;36m<module>\u001b[0;34m\u001b[0m\n\u001b[1;32m      2\u001b[0m \u001b[0mn_iter\u001b[0m \u001b[0;34m=\u001b[0m \u001b[0;36m10000\u001b[0m\u001b[0;34m\u001b[0m\u001b[0;34m\u001b[0m\u001b[0m\n\u001b[1;32m      3\u001b[0m \u001b[0mdata_ratios\u001b[0m \u001b[0;34m=\u001b[0m \u001b[0;34m[\u001b[0m\u001b[0;36m0\u001b[0m\u001b[0;34m,\u001b[0m\u001b[0;36m0.1\u001b[0m\u001b[0;34m,\u001b[0m\u001b[0;36m0.2\u001b[0m\u001b[0;34m,\u001b[0m\u001b[0;36m0.3\u001b[0m\u001b[0;34m,\u001b[0m\u001b[0;36m0.4\u001b[0m\u001b[0;34m,\u001b[0m\u001b[0;36m0.5\u001b[0m\u001b[0;34m,\u001b[0m\u001b[0;36m0.6\u001b[0m\u001b[0;34m,\u001b[0m\u001b[0;36m0.7\u001b[0m\u001b[0;34m,\u001b[0m\u001b[0;36m0.8\u001b[0m\u001b[0;34m,\u001b[0m\u001b[0;36m0.9\u001b[0m\u001b[0;34m,\u001b[0m\u001b[0;36m1\u001b[0m\u001b[0;34m]\u001b[0m\u001b[0;34m\u001b[0m\u001b[0;34m\u001b[0m\u001b[0m\n\u001b[0;32m----> 4\u001b[0;31m \u001b[0mresults_secret\u001b[0m \u001b[0;34m=\u001b[0m \u001b[0mresults\u001b[0m\u001b[0;34m(\u001b[0m\u001b[0mdata_ratios\u001b[0m\u001b[0;34m,\u001b[0m \u001b[0msecret\u001b[0m\u001b[0;34m=\u001b[0m\u001b[0;32mTrue\u001b[0m\u001b[0;34m,\u001b[0m \u001b[0mn_univ\u001b[0m\u001b[0;34m=\u001b[0m\u001b[0mn_univ\u001b[0m\u001b[0;34m,\u001b[0m \u001b[0mn_iter\u001b[0m\u001b[0;34m=\u001b[0m\u001b[0mn_iter\u001b[0m\u001b[0;34m)\u001b[0m\u001b[0;34m\u001b[0m\u001b[0;34m\u001b[0m\u001b[0m\n\u001b[0m\u001b[1;32m      5\u001b[0m \u001b[0;31m#results_public = results(data_ratios, secret=False, n_univ=n_univ, n_iter=n_iter)\u001b[0m\u001b[0;34m\u001b[0m\u001b[0;34m\u001b[0m\u001b[0;34m\u001b[0m\u001b[0m\n",
      "\u001b[0;32m<ipython-input-8-19ffbbd28bb0>\u001b[0m in \u001b[0;36mresults\u001b[0;34m(data_ratios, secret, n_univ, n_iter)\u001b[0m\n\u001b[1;32m      5\u001b[0m         \u001b[0;32mif\u001b[0m \u001b[0msecret\u001b[0m\u001b[0;34m:\u001b[0m\u001b[0;34m\u001b[0m\u001b[0;34m\u001b[0m\u001b[0m\n\u001b[1;32m      6\u001b[0m             \u001b[0mprint\u001b[0m\u001b[0;34m(\u001b[0m\u001b[0;34m\"secret\"\u001b[0m\u001b[0;34m)\u001b[0m\u001b[0;34m\u001b[0m\u001b[0;34m\u001b[0m\u001b[0m\n\u001b[0;32m----> 7\u001b[0;31m             \u001b[0mlikely\u001b[0m \u001b[0;34m=\u001b[0m \u001b[0manalyze_error\u001b[0m\u001b[0;34m(\u001b[0m\u001b[0;34m*\u001b[0m\u001b[0maccumurate\u001b[0m\u001b[0;34m(\u001b[0m\u001b[0mdata_ratio\u001b[0m\u001b[0;34m=\u001b[0m\u001b[0mdata_ratio\u001b[0m\u001b[0;34m,\u001b[0m \u001b[0mparam_ratio\u001b[0m\u001b[0;34m=\u001b[0m\u001b[0;36m0.5\u001b[0m\u001b[0;34m,\u001b[0m \u001b[0mn_iter\u001b[0m\u001b[0;34m=\u001b[0m\u001b[0mn_iter\u001b[0m\u001b[0;34m,\u001b[0m \u001b[0msecret\u001b[0m\u001b[0;34m=\u001b[0m\u001b[0;32mTrue\u001b[0m\u001b[0;34m,\u001b[0m \u001b[0mis_likelyhood\u001b[0m\u001b[0;34m=\u001b[0m\u001b[0;32mTrue\u001b[0m\u001b[0;34m,\u001b[0m \u001b[0mnum_univ\u001b[0m\u001b[0;34m=\u001b[0m\u001b[0mn_univ\u001b[0m\u001b[0;34m)\u001b[0m\u001b[0;34m)\u001b[0m\u001b[0;34m\u001b[0m\u001b[0;34m\u001b[0m\u001b[0m\n\u001b[0m\u001b[1;32m      8\u001b[0m             \u001b[0mappro\u001b[0m \u001b[0;34m=\u001b[0m \u001b[0manalyze_error\u001b[0m\u001b[0;34m(\u001b[0m\u001b[0;34m*\u001b[0m\u001b[0maccumurate\u001b[0m\u001b[0;34m(\u001b[0m\u001b[0mdata_ratio\u001b[0m\u001b[0;34m=\u001b[0m\u001b[0mdata_ratio\u001b[0m\u001b[0;34m,\u001b[0m \u001b[0mparam_ratio\u001b[0m\u001b[0;34m=\u001b[0m\u001b[0;36m0.5\u001b[0m\u001b[0;34m,\u001b[0m \u001b[0mn_iter\u001b[0m\u001b[0;34m=\u001b[0m\u001b[0mn_iter\u001b[0m\u001b[0;34m,\u001b[0m \u001b[0msecret\u001b[0m\u001b[0;34m=\u001b[0m\u001b[0;32mTrue\u001b[0m\u001b[0;34m,\u001b[0m \u001b[0mis_likelyhood\u001b[0m\u001b[0;34m=\u001b[0m\u001b[0;32mFalse\u001b[0m\u001b[0;34m,\u001b[0m \u001b[0mnum_univ\u001b[0m\u001b[0;34m=\u001b[0m\u001b[0mn_univ\u001b[0m\u001b[0;34m)\u001b[0m\u001b[0;34m)\u001b[0m\u001b[0;34m\u001b[0m\u001b[0;34m\u001b[0m\u001b[0m\n\u001b[1;32m      9\u001b[0m         \u001b[0;32melse\u001b[0m\u001b[0;34m:\u001b[0m\u001b[0;34m\u001b[0m\u001b[0;34m\u001b[0m\u001b[0m\n",
      "\u001b[0;32m<ipython-input-7-b0de7f3306d0>\u001b[0m in \u001b[0;36maccumurate\u001b[0;34m(data_ratio, param_ratio, n_iter, secret, is_likelyhood, num_univ)\u001b[0m\n\u001b[1;32m      8\u001b[0m     \u001b[0mref\u001b[0m \u001b[0;34m=\u001b[0m \u001b[0;34m[\u001b[0m\u001b[0;34m]\u001b[0m\u001b[0;34m\u001b[0m\u001b[0;34m\u001b[0m\u001b[0m\n\u001b[1;32m      9\u001b[0m     \u001b[0;32mfor\u001b[0m \u001b[0m_\u001b[0m \u001b[0;32min\u001b[0m \u001b[0mrange\u001b[0m\u001b[0;34m(\u001b[0m\u001b[0mn_iter\u001b[0m\u001b[0;34m)\u001b[0m\u001b[0;34m:\u001b[0m\u001b[0;34m\u001b[0m\u001b[0;34m\u001b[0m\u001b[0m\n\u001b[0;32m---> 10\u001b[0;31m         \u001b[0mcollected_data\u001b[0m \u001b[0;34m=\u001b[0m \u001b[0mcollect\u001b[0m\u001b[0;34m(\u001b[0m\u001b[0mdata_ratio\u001b[0m\u001b[0;34m=\u001b[0m\u001b[0mdata_ratio\u001b[0m\u001b[0;34m,\u001b[0m \u001b[0mparam_ratio\u001b[0m\u001b[0;34m=\u001b[0m\u001b[0mparam_ratio\u001b[0m\u001b[0;34m,\u001b[0m \u001b[0mnum_univ\u001b[0m\u001b[0;34m=\u001b[0m\u001b[0mnum_univ\u001b[0m\u001b[0;34m)\u001b[0m\u001b[0;34m\u001b[0m\u001b[0;34m\u001b[0m\u001b[0m\n\u001b[0m\u001b[1;32m     11\u001b[0m         \u001b[0;32mif\u001b[0m \u001b[0mis_likelyhood\u001b[0m\u001b[0;34m:\u001b[0m\u001b[0;34m\u001b[0m\u001b[0;34m\u001b[0m\u001b[0m\n\u001b[1;32m     12\u001b[0m             \u001b[0msolved\u001b[0m\u001b[0;34m.\u001b[0m\u001b[0mappend\u001b[0m\u001b[0;34m(\u001b[0m\u001b[0mnp\u001b[0m\u001b[0;34m.\u001b[0m\u001b[0mfloat\u001b[0m\u001b[0;34m(\u001b[0m\u001b[0mre\u001b[0m\u001b[0;34m(\u001b[0m\u001b[0mmax_likelyhood\u001b[0m\u001b[0;34m(\u001b[0m\u001b[0mcollected_data\u001b[0m\u001b[0;34m,\u001b[0m \u001b[0msecret\u001b[0m\u001b[0;34m=\u001b[0m\u001b[0msecret\u001b[0m\u001b[0;34m)\u001b[0m\u001b[0;34m)\u001b[0m\u001b[0;34m)\u001b[0m\u001b[0;34m)\u001b[0m\u001b[0;34m\u001b[0m\u001b[0;34m\u001b[0m\u001b[0m\n",
      "\u001b[0;32m<ipython-input-2-987f7dde5dff>\u001b[0m in \u001b[0;36mcollect\u001b[0;34m(data_ratio, param_ratio, num_univ)\u001b[0m\n\u001b[1;32m     31\u001b[0m     \u001b[0mcollected_data\u001b[0m \u001b[0;34m=\u001b[0m \u001b[0;34m[\u001b[0m\u001b[0;34m]\u001b[0m\u001b[0;34m\u001b[0m\u001b[0;34m\u001b[0m\u001b[0m\n\u001b[1;32m     32\u001b[0m     \u001b[0;32mfor\u001b[0m \u001b[0m_\u001b[0m \u001b[0;32min\u001b[0m \u001b[0mrange\u001b[0m\u001b[0;34m(\u001b[0m\u001b[0mnum_univ\u001b[0m\u001b[0;34m)\u001b[0m\u001b[0;34m:\u001b[0m\u001b[0;34m\u001b[0m\u001b[0;34m\u001b[0m\u001b[0m\n\u001b[0;32m---> 33\u001b[0;31m         \u001b[0muser\u001b[0m \u001b[0;34m=\u001b[0m \u001b[0mUser\u001b[0m\u001b[0;34m(\u001b[0m\u001b[0mdata_ratio\u001b[0m\u001b[0;34m=\u001b[0m\u001b[0mdata_ratio\u001b[0m\u001b[0;34m,\u001b[0m \u001b[0mparam_ratio\u001b[0m\u001b[0;34m=\u001b[0m\u001b[0mparam_ratio\u001b[0m\u001b[0;34m)\u001b[0m\u001b[0;34m\u001b[0m\u001b[0;34m\u001b[0m\u001b[0m\n\u001b[0m\u001b[1;32m     34\u001b[0m         \u001b[0mcollected_data\u001b[0m\u001b[0;34m.\u001b[0m\u001b[0mappend\u001b[0m\u001b[0;34m(\u001b[0m\u001b[0muser\u001b[0m\u001b[0;34m.\u001b[0m\u001b[0msend\u001b[0m\u001b[0;34m(\u001b[0m\u001b[0;34m)\u001b[0m\u001b[0;34m)\u001b[0m\u001b[0;34m\u001b[0m\u001b[0;34m\u001b[0m\u001b[0m\n\u001b[1;32m     35\u001b[0m     \u001b[0;32mreturn\u001b[0m \u001b[0mcollected_data\u001b[0m\u001b[0;34m\u001b[0m\u001b[0;34m\u001b[0m\u001b[0m\n",
      "\u001b[0;32m<ipython-input-1-6ed1230f440a>\u001b[0m in \u001b[0;36m__init__\u001b[0;34m(self, data_ratio, param_ratio)\u001b[0m\n\u001b[1;32m      9\u001b[0m \u001b[0;34m\u001b[0m\u001b[0m\n\u001b[1;32m     10\u001b[0m         \u001b[0mtemp_data\u001b[0m \u001b[0;34m=\u001b[0m \u001b[0mrandom\u001b[0m\u001b[0;34m.\u001b[0m\u001b[0mchoices\u001b[0m\u001b[0;34m(\u001b[0m\u001b[0mdata\u001b[0m\u001b[0;34m,\u001b[0m \u001b[0mweights\u001b[0m\u001b[0;34m=\u001b[0m\u001b[0;34m[\u001b[0m\u001b[0;36m1\u001b[0m\u001b[0;34m-\u001b[0m\u001b[0mdata_ratio\u001b[0m\u001b[0;34m,\u001b[0m \u001b[0mdata_ratio\u001b[0m\u001b[0;34m]\u001b[0m\u001b[0;34m)\u001b[0m\u001b[0;34m[\u001b[0m\u001b[0;36m0\u001b[0m\u001b[0;34m]\u001b[0m\u001b[0;34m\u001b[0m\u001b[0;34m\u001b[0m\u001b[0m\n\u001b[0;32m---> 11\u001b[0;31m         \u001b[0mself\u001b[0m\u001b[0;34m.\u001b[0m\u001b[0mparam\u001b[0m \u001b[0;34m=\u001b[0m \u001b[0mrandom\u001b[0m\u001b[0;34m.\u001b[0m\u001b[0mchoices\u001b[0m\u001b[0;34m(\u001b[0m\u001b[0mparam\u001b[0m\u001b[0;34m,\u001b[0m \u001b[0mweights\u001b[0m\u001b[0;34m=\u001b[0m\u001b[0;34m[\u001b[0m\u001b[0;36m1\u001b[0m\u001b[0;34m-\u001b[0m\u001b[0mparam_ratio\u001b[0m\u001b[0;34m,\u001b[0m \u001b[0mparam_ratio\u001b[0m\u001b[0;34m]\u001b[0m\u001b[0;34m)\u001b[0m\u001b[0;34m[\u001b[0m\u001b[0;36m0\u001b[0m\u001b[0;34m]\u001b[0m\u001b[0;34m\u001b[0m\u001b[0;34m\u001b[0m\u001b[0m\n\u001b[0m\u001b[1;32m     12\u001b[0m         \u001b[0mself\u001b[0m\u001b[0;34m.\u001b[0m\u001b[0mdata\u001b[0m \u001b[0;34m=\u001b[0m \u001b[0mData\u001b[0m\u001b[0;34m(\u001b[0m\u001b[0mtemp_data\u001b[0m\u001b[0;34m)\u001b[0m\u001b[0;34m\u001b[0m\u001b[0;34m\u001b[0m\u001b[0m\n\u001b[1;32m     13\u001b[0m \u001b[0;34m\u001b[0m\u001b[0m\n",
      "\u001b[0;32m~/anaconda3/envs/test2/lib/python3.6/random.py\u001b[0m in \u001b[0;36mchoices\u001b[0;34m(self, population, weights, cum_weights, k)\u001b[0m\n\u001b[1;32m    354\u001b[0m                 \u001b[0mtotal\u001b[0m \u001b[0;34m=\u001b[0m \u001b[0mlen\u001b[0m\u001b[0;34m(\u001b[0m\u001b[0mpopulation\u001b[0m\u001b[0;34m)\u001b[0m\u001b[0;34m\u001b[0m\u001b[0;34m\u001b[0m\u001b[0m\n\u001b[1;32m    355\u001b[0m                 \u001b[0;32mreturn\u001b[0m \u001b[0;34m[\u001b[0m\u001b[0mpopulation\u001b[0m\u001b[0;34m[\u001b[0m\u001b[0m_int\u001b[0m\u001b[0;34m(\u001b[0m\u001b[0mrandom\u001b[0m\u001b[0;34m(\u001b[0m\u001b[0;34m)\u001b[0m \u001b[0;34m*\u001b[0m \u001b[0mtotal\u001b[0m\u001b[0;34m)\u001b[0m\u001b[0;34m]\u001b[0m \u001b[0;32mfor\u001b[0m \u001b[0mi\u001b[0m \u001b[0;32min\u001b[0m \u001b[0mrange\u001b[0m\u001b[0;34m(\u001b[0m\u001b[0mk\u001b[0m\u001b[0;34m)\u001b[0m\u001b[0;34m]\u001b[0m\u001b[0;34m\u001b[0m\u001b[0;34m\u001b[0m\u001b[0m\n\u001b[0;32m--> 356\u001b[0;31m             \u001b[0mcum_weights\u001b[0m \u001b[0;34m=\u001b[0m \u001b[0mlist\u001b[0m\u001b[0;34m(\u001b[0m\u001b[0m_itertools\u001b[0m\u001b[0;34m.\u001b[0m\u001b[0maccumulate\u001b[0m\u001b[0;34m(\u001b[0m\u001b[0mweights\u001b[0m\u001b[0;34m)\u001b[0m\u001b[0;34m)\u001b[0m\u001b[0;34m\u001b[0m\u001b[0;34m\u001b[0m\u001b[0m\n\u001b[0m\u001b[1;32m    357\u001b[0m         \u001b[0;32melif\u001b[0m \u001b[0mweights\u001b[0m \u001b[0;32mis\u001b[0m \u001b[0;32mnot\u001b[0m \u001b[0;32mNone\u001b[0m\u001b[0;34m:\u001b[0m\u001b[0;34m\u001b[0m\u001b[0;34m\u001b[0m\u001b[0m\n\u001b[1;32m    358\u001b[0m             \u001b[0;32mraise\u001b[0m \u001b[0mTypeError\u001b[0m\u001b[0;34m(\u001b[0m\u001b[0;34m'Cannot specify both weights and cumulative weights'\u001b[0m\u001b[0;34m)\u001b[0m\u001b[0;34m\u001b[0m\u001b[0;34m\u001b[0m\u001b[0m\n",
      "\u001b[0;31mKeyboardInterrupt\u001b[0m: "
     ]
    }
   ],
   "source": [
    "n_univ = 10000\n",
    "n_iter = 10000\n",
    "data_ratios = [0,0.1,0.2,0.3,0.4,0.5,0.6,0.7,0.8,0.9,1]\n",
    "results_secret = results(data_ratios, secret=True, n_univ=n_univ, n_iter=n_iter)\n",
    "#results_public = results(data_ratios, secret=False, n_univ=n_univ, n_iter=n_iter)"
   ]
  },
  {
   "cell_type": "code",
   "execution_count": 1,
   "metadata": {},
   "outputs": [
    {
     "ename": "NameError",
     "evalue": "name 'data_ratios' is not defined",
     "output_type": "error",
     "traceback": [
      "\u001b[0;31m---------------------------------------------------------------------------\u001b[0m",
      "\u001b[0;31mNameError\u001b[0m                                 Traceback (most recent call last)",
      "\u001b[0;32m<ipython-input-1-dd3c15358df2>\u001b[0m in \u001b[0;36m<module>\u001b[0;34m\u001b[0m\n\u001b[1;32m      1\u001b[0m \u001b[0;32mimport\u001b[0m \u001b[0mmatplotlib\u001b[0m\u001b[0;34m.\u001b[0m\u001b[0mpyplot\u001b[0m \u001b[0;32mas\u001b[0m \u001b[0mplt\u001b[0m\u001b[0;34m\u001b[0m\u001b[0;34m\u001b[0m\u001b[0m\n\u001b[0;32m----> 2\u001b[0;31m \u001b[0mplt\u001b[0m\u001b[0;34m.\u001b[0m\u001b[0mplot\u001b[0m\u001b[0;34m(\u001b[0m\u001b[0mdata_ratios\u001b[0m\u001b[0;34m,\u001b[0m \u001b[0;34m[\u001b[0m\u001b[0mresult\u001b[0m\u001b[0;34m[\u001b[0m\u001b[0;36m0\u001b[0m\u001b[0;34m]\u001b[0m\u001b[0;34m[\u001b[0m\u001b[0;36m0\u001b[0m\u001b[0;34m]\u001b[0m \u001b[0;32mfor\u001b[0m \u001b[0m_\u001b[0m\u001b[0;34m,\u001b[0m \u001b[0mresult\u001b[0m \u001b[0;32min\u001b[0m \u001b[0mresults_public\u001b[0m\u001b[0;34m.\u001b[0m\u001b[0mitems\u001b[0m\u001b[0;34m(\u001b[0m\u001b[0;34m)\u001b[0m\u001b[0;34m]\u001b[0m\u001b[0;34m,\u001b[0m \u001b[0mlabel\u001b[0m\u001b[0;34m=\u001b[0m\u001b[0;34m\"public_likelyhood\"\u001b[0m\u001b[0;34m)\u001b[0m\u001b[0;34m\u001b[0m\u001b[0;34m\u001b[0m\u001b[0m\n\u001b[0m\u001b[1;32m      3\u001b[0m \u001b[0mplt\u001b[0m\u001b[0;34m.\u001b[0m\u001b[0mplot\u001b[0m\u001b[0;34m(\u001b[0m\u001b[0mdata_ratios\u001b[0m\u001b[0;34m,\u001b[0m \u001b[0;34m[\u001b[0m\u001b[0mresult\u001b[0m\u001b[0;34m[\u001b[0m\u001b[0;36m1\u001b[0m\u001b[0;34m]\u001b[0m\u001b[0;34m[\u001b[0m\u001b[0;36m0\u001b[0m\u001b[0;34m]\u001b[0m \u001b[0;32mfor\u001b[0m \u001b[0m_\u001b[0m\u001b[0;34m,\u001b[0m \u001b[0mresult\u001b[0m \u001b[0;32min\u001b[0m \u001b[0mresults_public\u001b[0m\u001b[0;34m.\u001b[0m\u001b[0mitems\u001b[0m\u001b[0;34m(\u001b[0m\u001b[0;34m)\u001b[0m\u001b[0;34m]\u001b[0m\u001b[0;34m,\u001b[0m \u001b[0mlabel\u001b[0m\u001b[0;34m=\u001b[0m\u001b[0;34m\"public_estimator\"\u001b[0m\u001b[0;34m)\u001b[0m\u001b[0;34m\u001b[0m\u001b[0;34m\u001b[0m\u001b[0m\n\u001b[1;32m      4\u001b[0m \u001b[0mplt\u001b[0m\u001b[0;34m.\u001b[0m\u001b[0mplot\u001b[0m\u001b[0;34m(\u001b[0m\u001b[0mdata_ratios\u001b[0m\u001b[0;34m,\u001b[0m \u001b[0;34m[\u001b[0m\u001b[0mresult\u001b[0m\u001b[0;34m[\u001b[0m\u001b[0;36m0\u001b[0m\u001b[0;34m]\u001b[0m\u001b[0;34m[\u001b[0m\u001b[0;36m0\u001b[0m\u001b[0;34m]\u001b[0m \u001b[0;32mfor\u001b[0m \u001b[0m_\u001b[0m\u001b[0;34m,\u001b[0m \u001b[0mresult\u001b[0m \u001b[0;32min\u001b[0m \u001b[0mresults_secret\u001b[0m\u001b[0;34m.\u001b[0m\u001b[0mitems\u001b[0m\u001b[0;34m(\u001b[0m\u001b[0;34m)\u001b[0m\u001b[0;34m]\u001b[0m\u001b[0;34m,\u001b[0m \u001b[0mlabel\u001b[0m\u001b[0;34m=\u001b[0m\u001b[0;34m\"secret_likelyhood\"\u001b[0m\u001b[0;34m)\u001b[0m\u001b[0;34m\u001b[0m\u001b[0;34m\u001b[0m\u001b[0m\n\u001b[1;32m      5\u001b[0m \u001b[0mplt\u001b[0m\u001b[0;34m.\u001b[0m\u001b[0mplot\u001b[0m\u001b[0;34m(\u001b[0m\u001b[0mdata_ratios\u001b[0m\u001b[0;34m,\u001b[0m \u001b[0;34m[\u001b[0m\u001b[0mresult\u001b[0m\u001b[0;34m[\u001b[0m\u001b[0;36m1\u001b[0m\u001b[0;34m]\u001b[0m\u001b[0;34m[\u001b[0m\u001b[0;36m0\u001b[0m\u001b[0;34m]\u001b[0m \u001b[0;32mfor\u001b[0m \u001b[0m_\u001b[0m\u001b[0;34m,\u001b[0m \u001b[0mresult\u001b[0m \u001b[0;32min\u001b[0m \u001b[0mresults_secret\u001b[0m\u001b[0;34m.\u001b[0m\u001b[0mitems\u001b[0m\u001b[0;34m(\u001b[0m\u001b[0;34m)\u001b[0m\u001b[0;34m]\u001b[0m\u001b[0;34m,\u001b[0m \u001b[0mlabel\u001b[0m\u001b[0;34m=\u001b[0m\u001b[0;34m\"secret_estimator\"\u001b[0m\u001b[0;34m)\u001b[0m\u001b[0;34m\u001b[0m\u001b[0;34m\u001b[0m\u001b[0m\n",
      "\u001b[0;31mNameError\u001b[0m: name 'data_ratios' is not defined"
     ]
    }
   ],
   "source": [
    "import matplotlib.pyplot as plt\n",
    "plt.plot(data_ratios, [result[0][0] for _, result in results_public.items()], label=\"public_likelyhood\")\n",
    "plt.plot(data_ratios, [result[1][0] for _, result in results_public.items()], label=\"public_estimator\")\n",
    "plt.plot(data_ratios, [result[0][0] for _, result in results_secret.items()], label=\"secret_likelyhood\")\n",
    "plt.plot(data_ratios, [result[1][0] for _, result in results_secret.items()], label=\"secret_estimator\")\n",
    "plt.legend()\n",
    "#plt.savefig(f\"results/univ_{n_univ}_param_{param_ratio}_n_iter_{n_iter}.eps\")"
   ]
  },
  {
   "cell_type": "code",
   "execution_count": 68,
   "metadata": {},
   "outputs": [
    {
     "data": {
      "text/plain": [
       "Text(0, 0.5, '推定値の誤差の平均')"
      ]
     },
     "execution_count": 68,
     "metadata": {},
     "output_type": "execute_result"
    },
    {
     "data": {
      "image/png": "[encoded data removed]",
      "text/plain": [
       "<Figure size 432x288 with 1 Axes>"
      ]
     },
     "metadata": {
      "needs_background": "light"
     },
     "output_type": "display_data"
    }
   ],
   "source": [
    "import matplotlib.pyplot as plt\n",
    "data_ratios = list(results_public.keys())\n",
    "n_univ = 100\n",
    "plt.plot(data_ratios, [result[0][0] for _, result in results_public.items()], label=\"公開_尤度推定\")\n",
    "plt.plot(data_ratios, [result[1][0] for _, result in results_public.items()], label=\"公開_推定量\")\n",
    "plt.plot(data_ratios, [result[0][0] for _, result in results_secret.items()], label=\"秘匿_尤度推定\")\n",
    "plt.plot(data_ratios, [result[1][0] for _, result in results_secret.items()], label=\"秘匿_推定量\")\n",
    "plt.legend(fontsize=12)\n",
    "plt.xlabel(\"パラメータ頻度比\", fontsize=15)\n",
    "plt.ylabel(\"推定値の誤差の平均\", fontsize=15)\n",
    "\n",
    "\n",
    "#plt.savefig(f\"results/univ_{n_univ}_data_{0.5}_n_iter_{10000}.eps\",bbox_inches=\"tight\", pad_inches=0.0)"
   ]
  },
  {
   "cell_type": "code",
   "execution_count": 123,
   "metadata": {},
   "outputs": [],
   "source": [
    "import pickle\n",
    "#with open(f\"data/univ_{100}_data_{0.5}_n_iter_{10000}_para_.pkl\", \"wb\") as f:\n",
    "#    pickle.dump([results_public, results_secret], f)\n",
    "with open(f\"data/univ_{n_univ}_param_{0.5}_n_iter_{n_iter}.pkl\", \"rb\") as f:\n",
    "    results_public, results_secret = pickle.load(f)"
   ]
  },
  {
   "cell_type": "code",
   "execution_count": 97,
   "metadata": {},
   "outputs": [],
   "source": [
    "#n_univ = 10000\n",
    "param_ratio = 0.5\n",
    "#n_iter = 10000\n",
    "with open(f\"data/univ_{n_univ}_param_{param_ratio}_n_iter_{n_iter}.pkl\", \"rb\") as f:\n",
    "    results_public, results_secret = pickle.load(f)"
   ]
  }
 ],
 "metadata": {
  "kernelspec": {
   "display_name": "Python 3",
   "language": "python",
   "name": "python3"
  },
  "language_info": {
   "codemirror_mode": {
    "name": "ipython",
    "version": 3
   },
   "file_extension": ".py",
   "mimetype": "text/x-python",
   "name": "python",
   "nbconvert_exporter": "python",
   "pygments_lexer": "ipython3",
   "version": "3.7.6"
  }
 },
 "nbformat": 4,
 "nbformat_minor": 4
}
